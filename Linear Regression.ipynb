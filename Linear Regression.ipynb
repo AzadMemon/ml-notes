{
 "cells": [
  {
   "cell_type": "markdown",
   "metadata": {},
   "source": [
    "# Linear Regression"
   ]
  },
  {
   "cell_type": "markdown",
   "metadata": {},
   "source": [
    "### Good for:\n"
   ]
  },
  {
   "cell_type": "markdown",
   "metadata": {},
   "source": [
    "1. Continuous value predictions\n",
    "2. Relationship between input and output must be linear"
   ]
  },
  {
   "cell_type": "markdown",
   "metadata": {},
   "source": [
    "### Scenario"
   ]
  },
  {
   "cell_type": "markdown",
   "metadata": {},
   "source": [
    "We have data about a house, such as its square footage, number of bathrooms, whether it has a fireplace or not, the size of its backyard and whether it has a garage or not. We want to predict what the price the house will sell at. \n",
    "\n",
    "The dataset can be found here: https://www.kaggle.com/c/house-prices-advanced-regression-techniques"
   ]
  },
  {
   "cell_type": "markdown",
   "metadata": {},
   "source": [
    "### Math"
   ]
  },
  {
   "cell_type": "markdown",
   "metadata": {},
   "source": [
    "Linear Regression attemps to find the line of best fit in two dimensional data. In higher dimensions it would attempt to find the plane/hyperplane of best fit. \n",
    "\n",
    "The model for linear regression with one feature looks like this:\n",
    "\n",
    "$$h(x) = a_{0} + a_{1}x$$\n",
    "\n",
    "The line of best fit is found by using a method called least squares fitting. The algorithm attempts to find a line to minimize the following error:\n",
    "\n",
    "$$C(x) = \\sum_{i=1}^{n} (h(x_{i}) - y_{i})^2$$\n",
    "\n",
    "Gradient descent is used to minimize the above error. I'll work through one step of gradient descent. \n",
    "\n"
   ]
  }
 ],
 "metadata": {
  "kernelspec": {
   "display_name": "Python 3",
   "language": "python",
   "name": "python3"
  },
  "language_info": {
   "codemirror_mode": {
    "name": "ipython",
    "version": 3
   },
   "file_extension": ".py",
   "mimetype": "text/x-python",
   "name": "python",
   "nbconvert_exporter": "python",
   "pygments_lexer": "ipython3",
   "version": "3.6.6"
  }
 },
 "nbformat": 4,
 "nbformat_minor": 2
}
