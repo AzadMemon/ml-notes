{
 "cells": [
  {
   "cell_type": "code",
   "execution_count": 27,
   "metadata": {},
   "outputs": [],
   "source": [
    "import numpy as np\n",
    "import matplotlib.pyplot as plt\n",
    "from sklearn.decomposition import PCA"
   ]
  },
  {
   "cell_type": "markdown",
   "metadata": {},
   "source": [
    "# Table of Contents\n",
    "Examples of matrix factorization include PCA and SVD. To understand matrix factorization we first have to understand Eigenvectors/values as well as the various interpretation of a matrix. \n",
    "\n",
    "* Interpretations of matrices\n",
    "* EigenVectors & Eigenvalues\n",
    "* PCA\n",
    "* SVD"
   ]
  },
  {
   "cell_type": "markdown",
   "metadata": {},
   "source": [
    "# Interpretations of Matrices"
   ]
  },
  {
   "cell_type": "markdown",
   "metadata": {},
   "source": []
  },
  {
   "cell_type": "markdown",
   "metadata": {},
   "source": [
    "# PCA\n",
    "\n",
    "### Motivating Example\n",
    "The motivating example we'll use here is a block connected to a spring like so:\n",
    "\n",
    "![](assets/block-spring.png)\n",
    "\n",
    "The assumption is that we're unaware that the world consists of 3 dimensions, and that we're unaware that this contraption operates in 3 dimensions. So we actually point 6 (arbitrarily chosen number) cameras at varying angles to try and observe the process.\n",
    "\n",
    "The recorded data will be stored in $X \\in \\mathbb{R}^{mxn}$. \n",
    "* Each column represents a recording at some time $t$ from each camera. \n",
    "* $m$ represents the number of cameras and is equal to 6 in our experiment. \n",
    "* $n$ represents the number of samples we took in the experiment."
   ]
  },
  {
   "cell_type": "markdown",
   "metadata": {},
   "source": [
    "### What does PCA do?\n",
    "The goal of PCA is to find the basis which best re-expresses our data. Ofcourse, the question is, what does best re-express mean:\n",
    "* PCA makes the assumption that dimensions of interest are those along which there is high variance.  \n",
    "\n",
    "Let's take a look at what this assumption means with regards to our motivating example.\n",
    "\n",
    "We're back in the world where it's obvious that the box-spring contraption operates in a 3-D world. The interesting mechanics of the process actually happen only along the x-axis. Sure, the ball will move every so slightly in the y and z axes, but the x-axis is the one that demonstrates the mechanics of the contraption (the force of the spring, friction etc).\n",
    "\n",
    "PCA in fact can be seen as doing two things:\n",
    "1. Find the number of dimensions that best re-express the data\n",
    "2. Re-express the data using some n-dimensional basis\n",
    "\n",
    "We'll focus our efforts on the latter. In the process we'll end up deriving the solution to the former as well. "
   ]
  },
  {
   "cell_type": "markdown",
   "metadata": {},
   "source": [
    "### Re-express the data in some n-dimensional basis\n",
    "\n",
    "So effectively our goal is to take our data $X$ and represent is as $Y$ through a set of linear transformations. Why linear?\n",
    "* PCA assumes only linear transformations in order to ensure performance <font color=red> Is this true? Is it the only reason? </font>\n",
    "\n",
    "This means we want to solve for $P$ s.t.:\n",
    "$$PX = Y$$\n",
    "\n",
    "where $P \\in \\mathbb{R}^{rxm}$ and $Y \\in \\mathbb{R}^{rxn}$"
   ]
  },
  {
   "cell_type": "markdown",
   "metadata": {},
   "source": [
    "### Noise & Redundancy \n",
    "<font color=red>Noise & Redundancy, And what else?</font>\n",
    "\n",
    "In our motivating example, because of our 6 cameras, we're going to see redundancy. And because of the mechanics of the process we're interested in, there will also be noise (the small movements in the y and z axes that were mentioned earlier). \n",
    "\n",
    "PCA's goal is to find a basis which removes both."
   ]
  },
  {
   "cell_type": "markdown",
   "metadata": {},
   "source": [
    "#### Noise\n",
    "\n",
    "Let's generate what noise might look like"
   ]
  },
  {
   "cell_type": "code",
   "execution_count": 22,
   "metadata": {},
   "outputs": [
    {
     "data": {
      "image/png": "[encoded data removed]",
      "text/plain": [
       "<Figure size 432x288 with 1 Axes>"
      ]
     },
     "metadata": {
      "needs_background": "light"
     },
     "output_type": "display_data"
    }
   ],
   "source": [
    "noise = np.random.normal(0,5,100)\n",
    "x = np.arange(100)\n",
    "y = x + noise\n",
    "\n",
    "plt.scatter(x, y, s=1, c='red')\n",
    "plt.plot(np.arange(50,100), np.arange(50,100), c='blue')\n",
    "plt.plot(np.arange(45, 51), -1*np.arange(45, 51) + 100)\n",
    "plt.text(40, 60, 'noise')\n",
    "plt.text(100, 100, 'signal')\n",
    "plt.show()"
   ]
  },
  {
   "cell_type": "markdown",
   "metadata": {},
   "source": [
    "The dimension we're most interested in is along the $y = x$ line. The remainder are small movements in the $y$ and $z$ direction. "
   ]
  },
  {
   "cell_type": "markdown",
   "metadata": {},
   "source": [
    "#### Redundancy\n",
    "\n",
    "Below see see several degrees of redundancy. The left most diagram shows that we need to keep both axes because one can't be estimated by the other, i.e. they're uncorrelated. \n",
    "\n",
    "The right-most diagram shows that there's a high level of redundancy. We can infact predict r1 if we knew r2, i.e. they're correlated. "
   ]
  },
  {
   "cell_type": "markdown",
   "metadata": {},
   "source": [
    "![](assets/redundancy-degrees.png)"
   ]
  },
  {
   "cell_type": "markdown",
   "metadata": {},
   "source": [
    "### Mathematical Derivation"
   ]
  },
  {
   "cell_type": "markdown",
   "metadata": {},
   "source": [
    "$$\n",
    "PX = Y\n",
    "\\\\~\\\\\n",
    "C_{Y} = \\frac{1}{n}YY^T\n",
    "\\\\~\\\\\n",
    "C_{Y} = \\frac{1}{n}PX(PX)^T\n",
    "\\\\~\\\\\n",
    "C_{Y} = \\frac{1}{n}PXX^TP^T\n",
    "\\\\~\\\\\n",
    "C_{Y} = PC_{X}P^T\n",
    "$$"
   ]
  },
  {
   "cell_type": "markdown",
   "metadata": {},
   "source": [
    "Our goal is to diagonalize the matrix $C_{Y}$ thereby ensuring that the re-expressed data, $Y$ has no correlations i.e. all redundancy has been removed\n",
    "\n",
    "<font color=red>For this, we need to realize that any symmetric matrix A is diagonalized by an orthogonal matrix of its eignevectors, that is:</font>\n",
    "$$\n",
    "A = EDE^T\n",
    "$$\n",
    "where $E$ is the eigenvectors of A stacked as columns, and D is a diagnoal matrix. \n",
    "\n",
    "In the equations above, we want $C_{Y}$ to be the diagonal matrix. Therefore we must pick $P$ to be equal to $E^T$, that is $P$ is the eigenvectors of $C_{X}$ stacked as rows."
   ]
  },
  {
   "cell_type": "markdown",
   "metadata": {},
   "source": [
    "$$\n",
    "C_{Y} = P(EDE^{T})P^{T}\n",
    "\\\\~\\\\\n",
    "C_{Y} = P(P^{T}DP)P^{T}\n",
    "\\\\~\\\\\n",
    "C_{Y} = PP^TDPP^T\n",
    "\\\\~\\\\\n",
    "C_{Y} = PP^{-1}DPP^{-1}\n",
    "\\\\~\\\\\n",
    "C_{Y} = D\n",
    "$$\n",
    "\n",
    "Where in the last line we used the fact <font color=red>$P^{T} = P^{-1}$</font>\n",
    "\n",
    "Thus we've proved that if we choose $P = E^{T}$, we can diagonalize $C_{Y}$"
   ]
  },
  {
   "cell_type": "markdown",
   "metadata": {},
   "source": [
    "# Questions\n",
    "<font color=red>Why is $C_{Y}$ diagonalized completely.</font> What does that mean for the data exactly? I think to fully understand this, I need to understand eigenvectors and eigenvalues. I need to understand the vectors that diagonalize the covariance matrix of X. "
   ]
  },
  {
   "cell_type": "markdown",
   "metadata": {},
   "source": [
    "**Highly correlated**"
   ]
  },
  {
   "cell_type": "code",
   "execution_count": 35,
   "metadata": {},
   "outputs": [],
   "source": [
    "pca = PCA(n_components=2)\n",
    "X = np.stack((x, y), axis=1)\n",
    "Y = pca.fit_transform(X)"
   ]
  },
  {
   "cell_type": "code",
   "execution_count": 37,
   "metadata": {},
   "outputs": [
    {
     "data": {
      "text/plain": [
       "(100, 2)"
      ]
     },
     "execution_count": 37,
     "metadata": {},
     "output_type": "execute_result"
    }
   ],
   "source": [
    "X.shape"
   ]
  },
  {
   "cell_type": "code",
   "execution_count": 36,
   "metadata": {},
   "outputs": [
    {
     "data": {
      "text/plain": [
       "(100, 2)"
      ]
     },
     "execution_count": 36,
     "metadata": {},
     "output_type": "execute_result"
    }
   ],
   "source": [
    "Y.shape"
   ]
  },
  {
   "cell_type": "code",
   "execution_count": 45,
   "metadata": {},
   "outputs": [
    {
     "data": {
      "text/plain": [
       "(-80.0, 80.0)"
      ]
     },
     "execution_count": 45,
     "metadata": {},
     "output_type": "execute_result"
    },
    {
     "data": {
      "image/png": "[encoded data removed]",
      "text/plain": [
       "<Figure size 432x288 with 1 Axes>"
      ]
     },
     "metadata": {
      "needs_background": "light"
     },
     "output_type": "display_data"
    }
   ],
   "source": [
    "plt.scatter(Y[:, 0], Y[:, 1])\n",
    "plt.xlim(-80, 80)\n",
    "plt.ylim(-80, 80)"
   ]
  },
  {
   "cell_type": "code",
   "execution_count": 41,
   "metadata": {},
   "outputs": [
    {
     "data": {
      "text/plain": [
       "array([[1.78981838e+03, 1.57669295e-15],\n",
       "       [1.57669295e-15, 1.10616036e+01]])"
      ]
     },
     "execution_count": 41,
     "metadata": {},
     "output_type": "execute_result"
    }
   ],
   "source": [
    "np.cov(Y.T)"
   ]
  },
  {
   "cell_type": "markdown",
   "metadata": {},
   "source": [
    "**Highly Uncorrelated**\n",
    "\n",
    "How is it possible, that when I take seemingly uncorrelated data and try to find the "
   ]
  },
  {
   "cell_type": "code",
   "execution_count": 55,
   "metadata": {},
   "outputs": [],
   "source": [
    "noise = np.random.normal(0,100,100)\n",
    "y = np.ones(100) + noise + 1"
   ]
  },
  {
   "cell_type": "code",
   "execution_count": 56,
   "metadata": {},
   "outputs": [
    {
     "data": {
      "text/plain": [
       "<matplotlib.collections.PathCollection at 0x128531dc0>"
      ]
     },
     "execution_count": 56,
     "metadata": {},
     "output_type": "execute_result"
    },
    {
     "data": {
      "image/png": "[encoded data removed]",
      "text/plain": [
       "<Figure size 432x288 with 1 Axes>"
      ]
     },
     "metadata": {
      "needs_background": "light"
     },
     "output_type": "display_data"
    }
   ],
   "source": [
    "plt.scatter(x, y, s=1, c='red')"
   ]
  },
  {
   "cell_type": "code",
   "execution_count": 57,
   "metadata": {},
   "outputs": [],
   "source": [
    "pca = PCA(n_components=2)\n",
    "X = np.stack((x, y), axis=1)\n",
    "Y = pca.fit_transform(X)"
   ]
  },
  {
   "cell_type": "code",
   "execution_count": 58,
   "metadata": {},
   "outputs": [
    {
     "data": {
      "text/plain": [
       "array([[8.43662238e+03, 2.26291424e-15],\n",
       "       [2.26291424e-15, 8.13807964e+02]])"
      ]
     },
     "execution_count": 58,
     "metadata": {},
     "output_type": "execute_result"
    }
   ],
   "source": [
    "np.cov(Y.T)"
   ]
  },
  {
   "cell_type": "code",
   "execution_count": 59,
   "metadata": {},
   "outputs": [
    {
     "data": {
      "text/plain": [
       "(-100.0, 100.0)"
      ]
     },
     "execution_count": 59,
     "metadata": {},
     "output_type": "execute_result"
    },
    {
     "data": {
      "image/png": "[encoded data removed]",
      "text/plain": [
       "<Figure size 432x288 with 1 Axes>"
      ]
     },
     "metadata": {
      "needs_background": "light"
     },
     "output_type": "display_data"
    }
   ],
   "source": [
    "plt.scatter(Y[:, 0], Y[:, 1])\n",
    "plt.xlim(-100, 100)\n",
    "plt.ylim(-100, 100)"
   ]
  },
  {
   "cell_type": "markdown",
   "metadata": {},
   "source": [
    "# Resources\n",
    "\n",
    "This tutorial describes the mathematics behind PCA really well: https://arxiv.org/pdf/1404.1100.pdf"
   ]
  }
 ],
 "metadata": {
  "kernelspec": {
   "display_name": "ml-notes",
   "language": "python",
   "name": "ml-notes"
  },
  "language_info": {
   "codemirror_mode": {
    "name": "ipython",
    "version": 3
   },
   "file_extension": ".py",
   "mimetype": "text/x-python",
   "name": "python",
   "nbconvert_exporter": "python",
   "pygments_lexer": "ipython3",
   "version": "3.8.1"
  }
 },
 "nbformat": 4,
 "nbformat_minor": 4
}
