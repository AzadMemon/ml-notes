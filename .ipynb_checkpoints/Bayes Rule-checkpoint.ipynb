{
 "cells": [
  {
   "cell_type": "markdown",
   "metadata": {},
   "source": [
    "# Bayes' Rule"
   ]
  },
  {
   "cell_type": "markdown",
   "metadata": {},
   "source": [
    "Bayes Rule (Odds-Form):\n",
    "\n",
    "$$\\frac{P(h|d)}{P(-h|d)} = \\frac{P(d|h)P(h)}{P(d|-h)P(-h)}$$\n",
    "\n",
    "Bayes Theorem (Absolute Probabilities):\n",
    "\n",
    "$$P(H_k | e_0)\n",
    "= \\frac{P(H_k \\wedge e_0)}{P(e_0)}\n",
    "= \\frac{P(e_0 \\wedge H_k)}{\\sum_i P(e_0 \\wedge H_i)}\n",
    "= \\frac{P(e_0 | X_k) \\cdot P(X_k)}{\\sum_i P(e_0 | X_i) \\cdot P(X_i)}$$\n",
    "\n",
    "Where the denominator in the last term is equal to $P(D)$ and $X_{i}$ are all the possible hypothesis/outcomes.\n",
    "\n",
    "The change in denominator from the second to third term is due to the law of total probability.\n"
   ]
  },
  {
   "cell_type": "markdown",
   "metadata": {},
   "source": [
    "Links:\n",
    "1. https://arbital.com/p/bayes_rule/?l=693\n",
    "2. https://cfss.uchicago.edu/persp017_inference.html"
   ]
  }
 ],
 "metadata": {
  "kernelspec": {
   "display_name": "Python 3",
   "language": "python",
   "name": "python3"
  },
  "language_info": {
   "codemirror_mode": {
    "name": "ipython",
    "version": 3
   },
   "file_extension": ".py",
   "mimetype": "text/x-python",
   "name": "python",
   "nbconvert_exporter": "python",
   "pygments_lexer": "ipython3",
   "version": "3.7.2"
  }
 },
 "nbformat": 4,
 "nbformat_minor": 2
}
