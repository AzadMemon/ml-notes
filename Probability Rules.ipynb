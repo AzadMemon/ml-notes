{
 "cells": [
  {
   "cell_type": "code",
   "execution_count": 1,
   "metadata": {},
   "outputs": [],
   "source": [
    "from IPython.display import Image"
   ]
  },
  {
   "cell_type": "markdown",
   "metadata": {},
   "source": [
    "# Probability Rules"
   ]
  },
  {
   "cell_type": "markdown",
   "metadata": {},
   "source": [
    "## Likelihood vs Probability vs Odds\n"
   ]
  },
  {
   "cell_type": "markdown",
   "metadata": {},
   "source": [
    "Likelihood - Not exactly sure yet\n",
    "\n",
    "Probability: plausability of random observed data\n",
    "\n",
    "Odds: Odds for is the ratio of probability it will happen over probability it won't. Odds against is the reciprocal of that ratio. "
   ]
  },
  {
   "cell_type": "markdown",
   "metadata": {},
   "source": [
    "## Conditional Probability"
   ]
  },
  {
   "cell_type": "markdown",
   "metadata": {},
   "source": [
    "$$P(A|B) = \\frac{P(A \\wedge B)}{P(B)}$$"
   ]
  },
  {
   "cell_type": "code",
   "execution_count": 2,
   "metadata": {},
   "outputs": [
    {
     "data": {
      "image/png": "[encoded data removed]",
      "text/plain": [
       "<IPython.core.display.Image object>"
      ]
     },
     "execution_count": 2,
     "metadata": {},
     "output_type": "execute_result"
    }
   ],
   "source": [
    "Image(filename=\"assets/220px-Conditional_probability.svg.png\")"
   ]
  },
  {
   "cell_type": "markdown",
   "metadata": {},
   "source": [
    "$$P(A|B_{2}) = \\frac{P(A \\wedge B_{2})}{P(B_{2})} = \\frac{0.12}{0.16} = 0.75$$"
   ]
  },
  {
   "cell_type": "markdown",
   "metadata": {},
   "source": [
    "## Probability Mass Functions"
   ]
  },
  {
   "cell_type": "markdown",
   "metadata": {},
   "source": [
    "A probability mass function describes the probability distribution of a discrete random variable. Say the random variable $X$ represents the possible outcomes of a die roll. There are exactly 6 outcomes of a die roll. Therefore, the $X$ is a discrete random variable. \n",
    "\n",
    "A probability mass function is usually denoted as: \n",
    "\n",
    "$$f_{X}(x) = P(X = x)$$.\n",
    "\n",
    "Therefore in this case,\n",
    "$$P(X = 1) = P(X = 2) = .... = P(X = 6) = \\frac{1}{6}$$\n",
    "since each outcome is equally likely. "
   ]
  },
  {
   "cell_type": "markdown",
   "metadata": {},
   "source": [
    "## Probability Density Functions"
   ]
  },
  {
   "cell_type": "markdown",
   "metadata": {},
   "source": [
    "A probability density function describes the probability distribution of a continuous random variable. Say $X$ represents the height of a person picked at random from a specified population. Since the outcomes can vary continuously within a range, $X$ is a continuous random variable. \n",
    "\n",
    "A probability density function is usually denoted as:\n",
    "\n",
    "$$\\int_{a}^{b} f_{X}(x)dx = P(a < X < b)$$.\n",
    "\n",
    "The reason this is different from PMFs is because when the random variable is continuous, the probability at any particular point is 0. If we were trying to predict the probability of landing on any particular sector on wheel of fortune, it would be $\\frac{1}{number of sectors on the wheel}$. That, however, represents a discrete number of outcomes. If we continued to divide the wheel into smaller and smaller sectors, our probability of landing on a given sector would be $lim_{x\\to\\infty} \\frac{1}{x}$, where x denotes the number of sectors. Therefore, the probability of landing on any single sector would be 0. In a similar fashion, in our height example, there are an infinite number of heights between any interval, therefore the probability of picking exactly one height is 0. \n",
    "\n",
    "Instead of cacluating the probability at a point, we calculate the probability for a small interval, $(a,b)$."
   ]
  },
  {
   "cell_type": "markdown",
   "metadata": {},
   "source": [
    "## Cumulative Distribution Function"
   ]
  },
  {
   "cell_type": "markdown",
   "metadata": {},
   "source": [
    "The cumulative distribution function is similar to the probability density function, except the lower bound of the interval, $a$, is equal to $\\infty$. The CDF represents the probability that the random variable $X$ will take on a value less than or equal to $b$."
   ]
  }
 ],
 "metadata": {
  "kernelspec": {
   "display_name": "Python 3",
   "language": "python",
   "name": "python3"
  },
  "language_info": {
   "codemirror_mode": {
    "name": "ipython",
    "version": 3
   },
   "file_extension": ".py",
   "mimetype": "text/x-python",
   "name": "python",
   "nbconvert_exporter": "python",
   "pygments_lexer": "ipython3",
   "version": "3.7.2"
  }
 },
 "nbformat": 4,
 "nbformat_minor": 2
}
