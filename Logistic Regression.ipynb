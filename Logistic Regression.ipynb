{
 "cells": [
  {
   "cell_type": "markdown",
   "metadata": {},
   "source": [
    "# Logistic Regression"
   ]
  },
  {
   "cell_type": "markdown",
   "metadata": {},
   "source": [
    "### Background"
   ]
  },
  {
   "cell_type": "markdown",
   "metadata": {},
   "source": [
    "Logistic regression is part of the Generalized Linear Models family. \n",
    "\n",
    "Unlike linear regression, where we predict a continuous variable with bounds determined by the specific problem, the logistic model predicts a probability (therefore bounded between 0 and 1). We can then set a cutoff point (say 0.5). If our logistic regression predicts a value above 0.5, we map it to 1 (e.g. has disease) otherwise we map it to 0 (e.g. does not have disease)."
   ]
  },
  {
   "cell_type": "markdown",
   "metadata": {},
   "source": [
    "### Basis"
   ]
  },
  {
   "cell_type": "markdown",
   "metadata": {},
   "source": [
    "Logistic regression maps first starts off by defining the log-odds function. The log-odds function is the logarithm of the odds. Odds for something happening is defined as the probability it will happen over the probability it won't happen, therefore the log-odds function is defined as:\n",
    "\n",
    "$$log(\\frac{p}{1-p})$$\n",
    "\n",
    "We define this to be equal to a linear model, for example:\n",
    "\n",
    "$$log(\\frac{p}{1-p}) = a_{0} + a_{1}x_{1} + a_{2}x_{2}$$\n",
    "\n",
    "Assuming this is a natural logarithm, we have:\n",
    "\n",
    "$$ p = \\frac{1}{1 + e^{a_{0} + a_{1}x_{1} + a_{2}x_{2}}}$$\n",
    "\n",
    "That is, now we have a function that predicts the probability based on input features $x_{1}$ and $x_{2}$."
   ]
  },
  {
   "cell_type": "markdown",
   "metadata": {},
   "source": [
    "### Cost Function"
   ]
  },
  {
   "cell_type": "markdown",
   "metadata": {},
   "source": [
    "#### Entropy"
   ]
  },
  {
   "cell_type": "markdown",
   "metadata": {},
   "source": [
    "In information theory, entropy is the average amount of information conveyed by an event. "
   ]
  },
  {
   "cell_type": "markdown",
   "metadata": {},
   "source": [
    "https://en.wikipedia.org/wiki/Generalized_linear_model\n",
    "https://en.wikipedia.org/wiki/Logistic_regression"
   ]
  }
 ],
 "metadata": {
  "kernelspec": {
   "display_name": "Python 3",
   "language": "python",
   "name": "python3"
  },
  "language_info": {
   "codemirror_mode": {
    "name": "ipython",
    "version": 3
   },
   "file_extension": ".py",
   "mimetype": "text/x-python",
   "name": "python",
   "nbconvert_exporter": "python",
   "pygments_lexer": "ipython3",
   "version": "3.7.2"
  }
 },
 "nbformat": 4,
 "nbformat_minor": 2
}
