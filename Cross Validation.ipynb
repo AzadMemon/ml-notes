{
 "cells": [
  {
   "cell_type": "markdown",
   "metadata": {},
   "source": [
    "# Cross Validation"
   ]
  },
  {
   "cell_type": "markdown",
   "metadata": {},
   "source": [
    "Cross validation is used to measure the ability of a model to generalize. \n",
    "\n",
    "A model is less likely to generalize when it has many parameters or when it has a small training data set.\n",
    "\n",
    "There are exhaustive cross-validation methods and non-exhaustive cross-validation methods. \n",
    "\n",
    "Exhaustive cross-validation methods try and divide the dataset into a train and test set in all possible ways. \n",
    "\n",
    "Non-Exhaustive methods (more popular) don't do this. \n",
    "\n",
    "Examples of Non-Exhaustive methods:\n",
    "* K-Fold Validation: Divide the datset into k partitions. Train on all possible combinations of k-1, while leaving the kth partition for training. The performance measure of the model on the validation set is averaged for the k runs. \n",
    "* Holdout: Simply divide the dataset into a train set and a test set. In this case, you don't get the benefit of averaging multiple training runs."
   ]
  }
 ],
 "metadata": {
  "kernelspec": {
   "display_name": "Python 3",
   "language": "python",
   "name": "python3"
  },
  "language_info": {
   "codemirror_mode": {
    "name": "ipython",
    "version": 3
   },
   "file_extension": ".py",
   "mimetype": "text/x-python",
   "name": "python",
   "nbconvert_exporter": "python",
   "pygments_lexer": "ipython3",
   "version": "3.7.2"
  }
 },
 "nbformat": 4,
 "nbformat_minor": 2
}
