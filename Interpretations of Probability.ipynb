{
 "cells": [
  {
   "cell_type": "markdown",
   "metadata": {},
   "source": [
    "# Interpretations of Probability"
   ]
  },
  {
   "cell_type": "markdown",
   "metadata": {},
   "source": [
    "There are four popular ones:\n",
    "1. Bayesian\n",
    "2. Frequentist\n",
    "3. Classical\n",
    "4. Propensity\n",
    "\n",
    "Typically the first two are the most popular. However, there is no one agreed upon interpreation of probability."
   ]
  },
  {
   "cell_type": "markdown",
   "metadata": {},
   "source": [
    "**Wilhelm**: https://www.researchgate.net/post/What_is_the_difference_between_frequentist_and_bayesian_probability"
   ]
  },
  {
   "cell_type": "markdown",
   "metadata": {},
   "source": [
    "## Frequentist Probability"
   ]
  },
  {
   "cell_type": "markdown",
   "metadata": {},
   "source": [
    "Here we define the probability of an event as its relative frequency over time. That is, if i flipped a coin an infinite number of times, how many times will it land on heads and how many times will it land on tails. \n",
    "\n",
    "Mathematically:\n",
    "$$ p_{a} = \\lim_{x\\to\\infty} \\frac{n_{a}}{n}$$\n",
    "\n",
    "Where $p_{a}$ is the probabilty of event A, and $n_{a}$ is the number of times event A happens.\n",
    "\n",
    "The issue here is that we can't actually perform an event an infinite number of times. That means each time we try to perform the experiment, the probability will be different. "
   ]
  },
  {
   "cell_type": "markdown",
   "metadata": {},
   "source": [
    "## Bayesian Probability"
   ]
  },
  {
   "cell_type": "markdown",
   "metadata": {},
   "source": [
    "In Bayesian Probability, we can calculate the probability that a claim/hypothesis is true based on some data by using the:\n",
    "1. prior, $p(h)$, the probability that the hypothesis is true prior to observing the data\n",
    "2. likelihood, $p(d|h)$, the probability that the data is evidence for the hypothesis\n",
    "\n",
    "**In frequentist probability, the hypothesis is tested without it being given a probability. The probability assigned to a hypothesis in frequentist probability is either 0 or 1. In bayesian, it can range from 0 to 1**\n",
    "\n",
    "Bayes Rule (Odds-Form):\n",
    "\n",
    "$$\\frac{P(h|d)}{P(-h|d)} = \\frac{P(d|h)P(h)}{P(d|-h)P(-h)}$$\n",
    "\n",
    "Bayes Theorem (Absolute Probabilites):\n",
    "\n",
    "$$\\mathbb P(H_k | e_0)\n",
    "= \\frac{\\mathbb P(H_k \\wedge e_0)}{\\mathbb P(e_0)}\n",
    "= \\frac{\\mathbb P(e_0 \\wedge H_k)}{\\sum_i P(e_0 \\wedge H_i)}\n",
    "= \\frac{\\mathbb P(e_0 | X_k) \\cdot \\mathbb P(X_k)}{\\sum_i \\mathbb P(e_0 | X_i) \\cdot \\mathbb P(X_i)}$$\n",
    "\n",
    "Where the denominator in the last term is equal to $P(D)$, where $X_i$ are all the possible outcomes."
   ]
  },
  {
   "cell_type": "markdown",
   "metadata": {},
   "source": [
    "## Frequentist vs Bayesian"
   ]
  },
  {
   "cell_type": "markdown",
   "metadata": {},
   "source": [
    "They differ largely in the inclusion of the prior. \n",
    "\n",
    "If a prior is known for sure then both frequentists and bayesians will default to using the bayes theorem. But if a prior is not known, a bayesian will attempt to assign a prior to the best of his knowledge (hence why it's considered a subjective interpretation of probability). A frequentist however will resort to using only the likelihood, leaving out the prior."
   ]
  }
 ],
 "metadata": {
  "kernelspec": {
   "display_name": "Python 3",
   "language": "python",
   "name": "python3"
  },
  "language_info": {
   "codemirror_mode": {
    "name": "ipython",
    "version": 3
   },
   "file_extension": ".py",
   "mimetype": "text/x-python",
   "name": "python",
   "nbconvert_exporter": "python",
   "pygments_lexer": "ipython3",
   "version": "3.7.2"
  }
 },
 "nbformat": 4,
 "nbformat_minor": 2
}
